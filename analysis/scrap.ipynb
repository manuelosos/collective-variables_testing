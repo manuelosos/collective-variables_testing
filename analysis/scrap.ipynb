{
 "cells": [
  {
   "cell_type": "code",
   "id": "initial_id",
   "metadata": {
    "collapsed": true,
    "ExecuteTime": {
     "end_time": "2024-05-13T12:32:37.459052Z",
     "start_time": "2024-05-13T12:32:37.332136Z"
    }
   },
   "source": [
    "\n",
    "import sponet_cv_testing.datamanagement as dm\n",
    "import numpy as np\n",
    "import sys\n",
    "import plotly.express as px\n",
    "import plotly.graph_objects as go\n",
    "import seaborn as sns\n",
    "import matplotlib.pyplot as plt\n",
    "\n",
    "\n",
    "df = dm.read_data_csv()\n",
    "\n",
    "df = df.sort_values(by=\"dim_estimate\", ascending=False)\n",
    "\n",
    "selected_run = df.iloc[3].name\n",
    "\n",
    "file_path = f\"../data/results/{selected_run}/\"\n",
    "xi = np.load(file_path + \"transition_manifold.npy\")\n",
    "x_anchor = np.load(file_path + \"x_data.npz\")[\"x_anchor\"]\n",
    "network = dm.open_network(file_path, \"network\")\n",
    "cv_optim = np.load(file_path +\"cv_optim\")\n"
   ],
   "execution_count": 2,
   "outputs": []
  },
  {
   "metadata": {
    "ExecuteTime": {
     "end_time": "2024-05-13T12:33:52.975747Z",
     "start_time": "2024-05-13T12:33:52.847546Z"
    }
   },
   "cell_type": "code",
   "source": "print(cv_optim[:,0].shape)",
   "id": "b247c57015494bcf",
   "execution_count": 4,
   "outputs": []
  },
  {
   "metadata": {
    "ExecuteTime": {
     "end_time": "2024-04-30T08:29:33.803128Z",
     "start_time": "2024-04-30T08:29:33.614404Z"
    }
   },
   "cell_type": "code",
   "source": [
    "xi_fit = cv_optim[\"xi_fit\"]\n",
    "alpha = cv_optim[\"alphas\"]\n",
    "\n",
    "fig = px.violin(xi_fit[:,:], points=\"all\")\n",
    "fig.show()\n",
    "sns.lineplot(xi_fit[:,:2])\n",
    "#sns.histplot(xi_fit[:,6])\n",
    "#plt.show()\n"
   ],
   "id": "5f1e4e0366ff3227",
   "execution_count": 49,
   "outputs": []
  },
  {
   "cell_type": "code",
   "source": [
    "#degrees= np.array(network.degree)[:,1:2].astype(int)\n",
    "degrees = np.array(list(network.degree))[:,1:2].astype(int).flatten()\n",
    "anchor_degs = degrees[x_anchor[1].astype(bool)]\n",
    "sum(anchor_degs/len(anchor_degs))\n",
    "\n",
    "degs = [len(degrees[x_anchor[i].astype(bool)]) for i in range(len(x_anchor))]\n",
    "\n",
    "\n",
    "fig = px.scatter_3d(x=xi[:, 0],\n",
    "                        y=xi[:, 1],\n",
    "                        z=degs,\n",
    "                        #color=colors[color]\n",
    "                        )\n",
    "fig.show()\n"
   ],
   "metadata": {
    "collapsed": false,
    "ExecuteTime": {
     "end_time": "2024-04-30T08:29:41.730700Z",
     "start_time": "2024-04-30T08:29:41.682414Z"
    }
   },
   "id": "4157416ed0d7df9f",
   "execution_count": 50,
   "outputs": []
  },
  {
   "cell_type": "code",
   "source": [
    "import networkx as nx\n",
    "import plotly.express as px\n",
    "import plotly.graph_objects as go\n",
    "import numpy as np\n",
    "\n",
    "network = nx.powerlaw_cluster_graph(1000, 2, 0.3)\n",
    "\n",
    "pos = nx.spring_layout(network, seed=100)\n",
    "# pos = nx.planar_layout(network)\n",
    "# pos = nx.kamada_kawai_layout(network)\n",
    "pos = np.array(list(pos.values()))\n",
    "\n",
    "degrees = np.array(network.degree)[:, 1:]\n",
    "\n",
    "node_trace = go.Scatter(\n",
    "    x=pos[:, 0], y=pos[:, 1],\n",
    "    mode=\"markers\",\n",
    "    marker=dict(showscale=True),\n",
    "    customdata=degrees,\n",
    "    hovertemplate=\"Degree: %{customdata}\"\n",
    "    )\n",
    "#node_trace.marker.color = np.logical_not(x.astype(bool)).astype(int)\n",
    "\n",
    "edge_x = []\n",
    "edge_y = []\n",
    "for edge in network.edges():\n",
    "    x0, y0 = pos[int(edge[0])]\n",
    "    x1, y1 = pos[int(edge[1])]\n",
    "\n",
    "    edge_x.append(x0)\n",
    "    edge_x.append(x1)\n",
    "    edge_x.append(None)\n",
    "    edge_y.append(y0)\n",
    "    edge_y.append(y1)\n",
    "    edge_y.append(None)\n",
    "\n",
    "edge_trace = go.Scatter(x=edge_x, y=edge_y, mode='lines', line=dict(width=0.5, color='#888'), hoverinfo='none')\n",
    "\n",
    "layout = go.Layout(\n",
    "    showlegend=False,\n",
    "    hovermode='closest',\n",
    "    margin=dict(b=20, l=5, r=5, t=40),\n",
    "    xaxis=dict(showgrid=False, zeroline=False, showticklabels=False),\n",
    "    yaxis=dict(showgrid=False, zeroline=False, showticklabels=False))\n",
    "\n",
    "fig = go.Figure(data=[edge_trace, node_trace], layout=layout)\n",
    "fig.show()\n",
    "\n",
    "degrees = np.array(list(network.degree))[:,1:2].astype(int).flatten()\n",
    "fig = px.histogram(degrees)\n",
    "fig.show()\n"
   ],
   "metadata": {
    "collapsed": false,
    "ExecuteTime": {
     "end_time": "2024-03-19T12:17:28.080732Z",
     "start_time": "2024-03-19T12:17:24.991621Z"
    }
   },
   "id": "d1caae3b3979b8e3",
   "execution_count": 19,
   "outputs": []
  },
  {
   "cell_type": "code",
   "source": [
    "hk_net = nx.powerlaw_cluster_graph(1000, 3, 0.7)\n",
    "ab_net = nx.barabasi_albert_graph(1000, 3)\n",
    "\n",
    "hk_clust = nx.average_clustering(hk_net)\n",
    "ab_clust = nx.average_clustering(ab_net)\n",
    "\n",
    "print(\"Holme Kim:\", hk_clust)\n",
    "print(\"Albert Ba:\", ab_clust)"
   ],
   "metadata": {
    "collapsed": false,
    "ExecuteTime": {
     "end_time": "2024-03-19T12:29:36.310204Z",
     "start_time": "2024-03-19T12:29:36.274587Z"
    }
   },
   "id": "477d3618bad05f6c",
   "execution_count": 52,
   "outputs": []
  },
  {
   "cell_type": "code",
   "source": [
    "g = []\n",
    "type(\"\".join(g))"
   ],
   "metadata": {
    "collapsed": false,
    "ExecuteTime": {
     "end_time": "2024-04-15T12:24:01.494135Z",
     "start_time": "2024-04-15T12:24:01.486713Z"
    }
   },
   "id": "f33b083fb300c6c8",
   "execution_count": 5,
   "outputs": []
  },
  {
   "metadata": {},
   "cell_type": "code",
   "execution_count": null,
   "source": "",
   "id": "6dedae1aceeb078c",
   "outputs": []
  }
 ],
 "metadata": {
  "kernelspec": {
   "display_name": "Python 3",
   "language": "python",
   "name": "python3"
  },
  "language_info": {
   "codemirror_mode": {
    "name": "ipython",
    "version": 2
   },
   "file_extension": ".py",
   "mimetype": "text/x-python",
   "name": "python",
   "nbconvert_exporter": "python",
   "pygments_lexer": "ipython2",
   "version": "2.7.6"
  }
 },
 "nbformat": 4,
 "nbformat_minor": 5
}
